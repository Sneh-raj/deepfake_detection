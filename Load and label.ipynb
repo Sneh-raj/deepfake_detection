{
  "nbformat": 4,
  "nbformat_minor": 0,
  "metadata": {
    "colab": {
      "provenance": []
    },
    "kernelspec": {
      "name": "python3",
      "display_name": "Python 3"
    },
    "language_info": {
      "name": "python"
    }
  },
  "cells": [
    {
      "cell_type": "code",
      "execution_count": null,
      "metadata": {
        "colab": {
          "base_uri": "https://localhost:8080/"
        },
        "id": "xcgyuHKKRTMC",
        "outputId": "10270386-bae6-4c8a-fe4d-752c5c69ab24"
      },
      "outputs": [
        {
          "output_type": "stream",
          "name": "stdout",
          "text": [
            "Mounted at /content/drive\n"
          ]
        }
      ],
      "source": [
        "from google.colab import drive\n",
        "drive.mount('/content/drive')"
      ]
    },
    {
      "cell_type": "code",
      "source": [
        "from keras.layers import Input, Lambda, Dense, Flatten\n",
        "from keras.models import Model\n",
        "from keras.applications.vgg16 import VGG16\n",
        "#from keras.applications.resnet import ResNet50\n",
        "from keras.applications.vgg16 import preprocess_input\n",
        "from keras.preprocessing import image\n",
        "from keras.preprocessing.image import ImageDataGenerator\n",
        "from keras.models import Sequential\n",
        "import numpy as np\n",
        "from glob import glob\n",
        "import matplotlib.pyplot as plt\n",
        "\n",
        "# re-size all the images to this\n",
        "IMAGE_SIZE = [224, 224]\n",
        "\n",
        "train_path = '/content/drive/MyDrive/deep_fake_image_detection/Image_segregated/train'\n",
        "valid_path = '/content/drive/MyDrive/deep_fake_image_detection/Image_segregated/val'\n",
        "\n",
        "# add preprocessing layer to the front of VGG(include=False means donot add the last layer)\n",
        "vgg = VGG16(input_shape=IMAGE_SIZE + [3], weights='imagenet', include_top=False)\n",
        "\n"
      ],
      "metadata": {
        "colab": {
          "base_uri": "https://localhost:8080/"
        },
        "id": "pWL5bxjXRj1i",
        "outputId": "d4703620-5cd5-41cc-b2fb-1c5854ca408a"
      },
      "execution_count": null,
      "outputs": [
        {
          "output_type": "stream",
          "name": "stdout",
          "text": [
            "Downloading data from https://storage.googleapis.com/tensorflow/keras-applications/vgg16/vgg16_weights_tf_dim_ordering_tf_kernels_notop.h5\n",
            "58889256/58889256 [==============================] - 1s 0us/step\n"
          ]
        }
      ]
    },
    {
      "cell_type": "code",
      "source": [
        "import os\n",
        "import cv2\n",
        "labels = ['fake', 'real']\n",
        "img_size = 224\n",
        "def get_data(data_dir):\n",
        "    data = []\n",
        "    for label in labels:\n",
        "        path = os.path.join(data_dir, label)\n",
        "        class_num = labels.index(label)\n",
        "        for img in os.listdir(path):\n",
        "            try:\n",
        "                img_arr = cv2.imread(os.path.join(path, img))[...,::-1] #convert BGR to RGB format\n",
        "                resized_arr = cv2.resize(img_arr, (img_size, img_size)) # Reshaping images to preferred size\n",
        "                data.append([resized_arr, class_num])\n",
        "            except Exception as e:\n",
        "                print(e)\n",
        "    return np.array(data)"
      ],
      "metadata": {
        "id": "Af-EzwuoRjzY"
      },
      "execution_count": null,
      "outputs": []
    },
    {
      "cell_type": "code",
      "source": [],
      "metadata": {
        "id": "byfq2cgTSLuF"
      },
      "execution_count": null,
      "outputs": []
    },
    {
      "cell_type": "code",
      "source": [],
      "metadata": {
        "id": "Wnwpi_JZSLlm"
      },
      "execution_count": null,
      "outputs": []
    },
    {
      "cell_type": "code",
      "source": [
        "import os\n",
        "import cv2\n",
        "import numpy as np\n",
        "\n",
        "def load_images_and_labels(folder_path):\n",
        "    images = []\n",
        "    labels = []\n",
        "\n",
        "    for filename in os.listdir(folder_path):\n",
        "        if filename.endswith(\".jpg\") or filename.endswith(\".png\"):\n",
        "            img_path = os.path.join(folder_path, filename)\n",
        "            img = cv2.imread(img_path)\n",
        "\n",
        "            # Resize or preprocess the image as needed\n",
        "            # img = cv2.resize(img, (width, height))\n",
        "\n",
        "            label = int(filename.startswith(\"fake\"))  # Assuming \"fake\" corresponds to label 0, adjust accordingly\n",
        "            images.append(img)\n",
        "            labels.append(label)\n",
        "\n",
        "    return np.array(images), np.array(labels)\n",
        "\n",
        "# Example usage\n",
        "train_folder = \"/content/drive/MyDrive/Image_segregated_2/train\"\n",
        "X_train, y_train = load_images_and_labels(train_folder)\n",
        "\n",
        "# Now you have X_train (images) and y_train (labels) ready to use\n"
      ],
      "metadata": {
        "id": "K4HICU_URjwu"
      },
      "execution_count": null,
      "outputs": []
    },
    {
      "cell_type": "code",
      "source": [
        "X_train.shape"
      ],
      "metadata": {
        "colab": {
          "base_uri": "https://localhost:8080/"
        },
        "id": "_2GLKFvaRjt5",
        "outputId": "acdd9eb9-e0fd-4db9-a837-7d8906baeb08"
      },
      "execution_count": null,
      "outputs": [
        {
          "output_type": "execute_result",
          "data": {
            "text/plain": [
              "(1999, 224, 224, 3)"
            ]
          },
          "metadata": {},
          "execution_count": 8
        }
      ]
    },
    {
      "cell_type": "code",
      "source": [
        "y_train.shape"
      ],
      "metadata": {
        "colab": {
          "base_uri": "https://localhost:8080/"
        },
        "id": "wGp0FX0gRjrj",
        "outputId": "f5b9641b-6c13-407c-a724-9630a351becc"
      },
      "execution_count": null,
      "outputs": [
        {
          "output_type": "execute_result",
          "data": {
            "text/plain": [
              "(1999,)"
            ]
          },
          "metadata": {},
          "execution_count": 9
        }
      ]
    },
    {
      "cell_type": "code",
      "source": [
        "# Example usage\n",
        "val_folder = \"/content/drive/MyDrive/Image_segregated_2/val\"\n",
        "X_val, y_val = load_images_and_labels(val_folder)\n"
      ],
      "metadata": {
        "id": "vAG2FQchRjpQ"
      },
      "execution_count": null,
      "outputs": []
    },
    {
      "cell_type": "code",
      "source": [
        "X_val.shape"
      ],
      "metadata": {
        "colab": {
          "base_uri": "https://localhost:8080/"
        },
        "id": "3Y2uOZt9RjmT",
        "outputId": "379b00db-c7d3-499a-b30d-0a9f4061c13e"
      },
      "execution_count": null,
      "outputs": [
        {
          "output_type": "execute_result",
          "data": {
            "text/plain": [
              "(800, 224, 224, 3)"
            ]
          },
          "metadata": {},
          "execution_count": 12
        }
      ]
    },
    {
      "cell_type": "code",
      "source": [
        "y_val.shape"
      ],
      "metadata": {
        "colab": {
          "base_uri": "https://localhost:8080/"
        },
        "id": "Iqzbm9DWRjj8",
        "outputId": "23ccfe6c-b8b3-4843-f1bc-13cf9a9455d2"
      },
      "execution_count": null,
      "outputs": [
        {
          "output_type": "execute_result",
          "data": {
            "text/plain": [
              "(800,)"
            ]
          },
          "metadata": {},
          "execution_count": 13
        }
      ]
    },
    {
      "cell_type": "code",
      "source": [
        "test_folder = \"/content/drive/MyDrive/Image_segregated_2/test\"\n",
        "X_test, y_test = load_images_and_labels(test_folder)\n"
      ],
      "metadata": {
        "id": "BReJy-7MRjhG"
      },
      "execution_count": null,
      "outputs": []
    },
    {
      "cell_type": "code",
      "source": [
        "X_test.shape"
      ],
      "metadata": {
        "colab": {
          "base_uri": "https://localhost:8080/"
        },
        "id": "eyFatxfeRjeV",
        "outputId": "c793042c-0851-444f-bb69-da9463434fdb"
      },
      "execution_count": null,
      "outputs": [
        {
          "output_type": "execute_result",
          "data": {
            "text/plain": [
              "(809, 224, 224, 3)"
            ]
          },
          "metadata": {},
          "execution_count": 15
        }
      ]
    },
    {
      "cell_type": "code",
      "source": [
        "y_test.shape"
      ],
      "metadata": {
        "colab": {
          "base_uri": "https://localhost:8080/"
        },
        "id": "JphbKkGhRjbm",
        "outputId": "78e402f9-e5dd-40fe-fa20-adb76911d510"
      },
      "execution_count": null,
      "outputs": [
        {
          "output_type": "execute_result",
          "data": {
            "text/plain": [
              "(809,)"
            ]
          },
          "metadata": {},
          "execution_count": 16
        }
      ]
    },
    {
      "cell_type": "code",
      "source": [
        "# Normalize the data\n",
        "X_train = np.array(X_train).astype('float32') / 255\n",
        "X_val = np.array(X_val).astype('float32') / 255"
      ],
      "metadata": {
        "id": "5gNS1_CRRjZV"
      },
      "execution_count": null,
      "outputs": []
    },
    {
      "cell_type": "code",
      "source": [
        "# don't train existing weights\n",
        "for layer in vgg.layers:\n",
        "    layer.trainable = False"
      ],
      "metadata": {
        "id": "S5Mbgp_aRjWj"
      },
      "execution_count": null,
      "outputs": []
    },
    {
      "cell_type": "code",
      "source": [
        "folders = glob('/content/drive/MyDrive/deep_fake_image_detection/Image_segregated/train')\n",
        "len(folders)"
      ],
      "metadata": {
        "colab": {
          "base_uri": "https://localhost:8080/"
        },
        "id": "WXYl2d12RjUI",
        "outputId": "446716d9-81df-41e5-be84-9125af0f2f3f"
      },
      "execution_count": null,
      "outputs": [
        {
          "output_type": "execute_result",
          "data": {
            "text/plain": [
              "0"
            ]
          },
          "metadata": {},
          "execution_count": 20
        }
      ]
    },
    {
      "cell_type": "code",
      "source": [
        "folders = glob('/content/drive/MyDrive/Image_segregated/train')\n",
        "\n",
        "\n",
        "# our layers - you can add more if you want\n",
        "x = Flatten()(vgg.output)\n",
        "# x = Dense(1000, activation='relu')(x)\n",
        "prediction = Dense(1, activation='sigmoid')(x)\n",
        "\n",
        "# create a model object\n",
        "model = Model(inputs=vgg.input, outputs=prediction)\n",
        "\n",
        "# view the structure of the model\n",
        "model.summary()"
      ],
      "metadata": {
        "colab": {
          "base_uri": "https://localhost:8080/"
        },
        "id": "Qowdhqy8RjRI",
        "outputId": "13131df5-1b9e-4e46-b5b5-4cbf9feb9537"
      },
      "execution_count": null,
      "outputs": [
        {
          "output_type": "stream",
          "name": "stdout",
          "text": [
            "Model: \"model\"\n",
            "_________________________________________________________________\n",
            " Layer (type)                Output Shape              Param #   \n",
            "=================================================================\n",
            " input_1 (InputLayer)        [(None, 224, 224, 3)]     0         \n",
            "                                                                 \n",
            " block1_conv1 (Conv2D)       (None, 224, 224, 64)      1792      \n",
            "                                                                 \n",
            " block1_conv2 (Conv2D)       (None, 224, 224, 64)      36928     \n",
            "                                                                 \n",
            " block1_pool (MaxPooling2D)  (None, 112, 112, 64)      0         \n",
            "                                                                 \n",
            " block2_conv1 (Conv2D)       (None, 112, 112, 128)     73856     \n",
            "                                                                 \n",
            " block2_conv2 (Conv2D)       (None, 112, 112, 128)     147584    \n",
            "                                                                 \n",
            " block2_pool (MaxPooling2D)  (None, 56, 56, 128)       0         \n",
            "                                                                 \n",
            " block3_conv1 (Conv2D)       (None, 56, 56, 256)       295168    \n",
            "                                                                 \n",
            " block3_conv2 (Conv2D)       (None, 56, 56, 256)       590080    \n",
            "                                                                 \n",
            " block3_conv3 (Conv2D)       (None, 56, 56, 256)       590080    \n",
            "                                                                 \n",
            " block3_pool (MaxPooling2D)  (None, 28, 28, 256)       0         \n",
            "                                                                 \n",
            " block4_conv1 (Conv2D)       (None, 28, 28, 512)       1180160   \n",
            "                                                                 \n",
            " block4_conv2 (Conv2D)       (None, 28, 28, 512)       2359808   \n",
            "                                                                 \n",
            " block4_conv3 (Conv2D)       (None, 28, 28, 512)       2359808   \n",
            "                                                                 \n",
            " block4_pool (MaxPooling2D)  (None, 14, 14, 512)       0         \n",
            "                                                                 \n",
            " block5_conv1 (Conv2D)       (None, 14, 14, 512)       2359808   \n",
            "                                                                 \n",
            " block5_conv2 (Conv2D)       (None, 14, 14, 512)       2359808   \n",
            "                                                                 \n",
            " block5_conv3 (Conv2D)       (None, 14, 14, 512)       2359808   \n",
            "                                                                 \n",
            " block5_pool (MaxPooling2D)  (None, 7, 7, 512)         0         \n",
            "                                                                 \n",
            " flatten (Flatten)           (None, 25088)             0         \n",
            "                                                                 \n",
            " dense (Dense)               (None, 1)                 25089     \n",
            "                                                                 \n",
            "=================================================================\n",
            "Total params: 14739777 (56.23 MB)\n",
            "Trainable params: 25089 (98.00 KB)\n",
            "Non-trainable params: 14714688 (56.13 MB)\n",
            "_________________________________________________________________\n"
          ]
        }
      ]
    },
    {
      "cell_type": "code",
      "source": [
        "# tell the model what cost and optimization method to use\n",
        "model.compile(\n",
        "  loss='binary_crossentropy',\n",
        "  optimizer='adam',\n",
        "  metrics=['accuracy']\n",
        ")"
      ],
      "metadata": {
        "id": "qlkdS-yRRjOi"
      },
      "execution_count": null,
      "outputs": []
    },
    {
      "cell_type": "code",
      "source": [
        "\n",
        "# useful for getting number of classes\n",
        "folders = glob('/content/drive/MyDrive/Image_segregated/train/*')\n",
        "\n",
        "\n",
        "\n",
        "\n",
        "\n",
        "from keras.preprocessing.image import ImageDataGenerator\n",
        "\n",
        "train_datagen = ImageDataGenerator(rescale = 1./255,\n",
        "                                   shear_range = 0.2,\n",
        "                                   zoom_range = 0.2,\n",
        "                                   horizontal_flip = True)\n",
        "\n",
        "test_datagen = ImageDataGenerator(rescale = 1./255)\n",
        "\n",
        "training_set = train_datagen.flow_from_directory('/content/drive/MyDrive/Image_segregated/train',\n",
        "                                                 target_size = (224, 224),\n",
        "                                                 batch_size = 32,\n",
        "                                                 class_mode = 'categorical')\n",
        "\n",
        "test_set = test_datagen.flow_from_directory('/content/drive/MyDrive/Image_segregated/test',\n",
        "                                            target_size = (224, 224),\n",
        "                                            batch_size = 32,\n",
        "                                            class_mode = 'categorical')\n",
        "\n"
      ],
      "metadata": {
        "colab": {
          "base_uri": "https://localhost:8080/"
        },
        "id": "BcYcJcq7RjL1",
        "outputId": "8d285e88-3d82-4b1f-f688-dbb91a58bb3e"
      },
      "execution_count": null,
      "outputs": [
        {
          "output_type": "stream",
          "name": "stdout",
          "text": [
            "Found 1999 images belonging to 2 classes.\n",
            "Found 809 images belonging to 2 classes.\n"
          ]
        }
      ]
    },
    {
      "cell_type": "code",
      "source": [
        "history = model.fit_generator(\n",
        "  training_set,\n",
        "  validation_data=test_set,\n",
        "  epochs=10,\n",
        "  steps_per_epoch=len(training_set),\n",
        "  validation_steps=len(test_set)\n",
        ")"
      ],
      "metadata": {
        "colab": {
          "base_uri": "https://localhost:8080/"
        },
        "id": "F-Z0CaY_RjI7",
        "outputId": "51d2bd61-4cb8-4686-cbac-709f51a83b38"
      },
      "execution_count": null,
      "outputs": [
        {
          "metadata": {
            "tags": null
          },
          "name": "stderr",
          "output_type": "stream",
          "text": [
            "<ipython-input-25-0aa33a0e172f>:1: UserWarning: `Model.fit_generator` is deprecated and will be removed in a future version. Please use `Model.fit`, which supports generators.\n",
            "  history = model.fit_generator(\n"
          ]
        },
        {
          "output_type": "stream",
          "name": "stdout",
          "text": [
            "Epoch 1/10\n",
            "63/63 [==============================] - 1661s 26s/step - loss: 0.7251 - accuracy: 0.5000 - val_loss: 0.7066 - val_accuracy: 0.5000\n",
            "Epoch 2/10\n",
            "63/63 [==============================] - 1653s 26s/step - loss: 0.7027 - accuracy: 0.5000 - val_loss: 0.7005 - val_accuracy: 0.5000\n",
            "Epoch 3/10\n",
            "63/63 [==============================] - 1587s 25s/step - loss: 0.7006 - accuracy: 0.5000 - val_loss: 0.6998 - val_accuracy: 0.5000\n",
            "Epoch 4/10\n",
            "63/63 [==============================] - 1638s 26s/step - loss: 0.6985 - accuracy: 0.5000 - val_loss: 0.6987 - val_accuracy: 0.5000\n",
            "Epoch 5/10\n",
            "63/63 [==============================] - 1630s 26s/step - loss: 0.6986 - accuracy: 0.5000 - val_loss: 0.7010 - val_accuracy: 0.5000\n",
            "Epoch 6/10\n",
            "63/63 [==============================] - 1631s 26s/step - loss: 0.7010 - accuracy: 0.5000 - val_loss: 0.7011 - val_accuracy: 0.5000\n",
            "Epoch 7/10\n",
            "63/63 [==============================] - 1636s 26s/step - loss: 0.7007 - accuracy: 0.5000 - val_loss: 0.7037 - val_accuracy: 0.5000\n",
            "Epoch 8/10\n",
            "63/63 [==============================] - 1576s 25s/step - loss: 0.7012 - accuracy: 0.5000 - val_loss: 0.6994 - val_accuracy: 0.5000\n",
            "Epoch 9/10\n",
            "63/63 [==============================] - 1638s 26s/step - loss: 0.7004 - accuracy: 0.5000 - val_loss: 0.7007 - val_accuracy: 0.5000\n",
            "Epoch 10/10\n",
            "63/63 [==============================] - 1637s 26s/step - loss: 0.7066 - accuracy: 0.5000 - val_loss: 0.7037 - val_accuracy: 0.5000\n"
          ]
        }
      ]
    },
    {
      "cell_type": "code",
      "source": [
        "acc = history.history['accuracy']\n",
        "val_acc = history.history['val_accuracy']\n",
        "loss = history.history['loss']\n",
        "val_loss = history.history['val_loss']\n",
        "\n",
        "epochs_range = range(10)\n",
        "\n",
        "plt.figure(figsize=(15, 15))\n",
        "plt.subplot(2, 2, 1)\n",
        "plt.plot(epochs_range, acc, label='Training Accuracy')\n",
        "plt.plot(epochs_range, val_acc, label='Validation Accuracy')\n",
        "plt.legend(loc='lower right')\n",
        "plt.title('Training and Validation Accuracy')\n",
        "\n",
        "plt.subplot(2, 2, 2)\n",
        "plt.plot(epochs_range, loss, label='Training Loss')\n",
        "plt.plot(epochs_range, val_loss, label='Validation Loss')\n",
        "plt.legend(loc='upper right')\n",
        "plt.title('Training and Validation Loss')\n",
        "plt.show()"
      ],
      "metadata": {
        "colab": {
          "base_uri": "https://localhost:8080/",
          "height": 431
        },
        "id": "EnZLWbw6RjGk",
        "outputId": "ca3e7ace-8d89-4366-9a70-341a00fac6a4"
      },
      "execution_count": null,
      "outputs": [
        {
          "output_type": "display_data",
          "data": {
            "text/plain": [
              "<Figure size 1500x1500 with 2 Axes>"
            ],
            "image/png": "[encoded data removed]"
          },
          "metadata": {}
        }
      ]
    },
    {
      "cell_type": "code",
      "source": [
        "import cv2\n",
        "import numpy as np\n",
        "\n",
        "# Load and preprocess the new image\n",
        "img_path = '/content/drive/MyDrive/Image_segregated_2/test/Real1781.jpg'  # Update with the path to your new image\n"
      ],
      "metadata": {
        "id": "ncGHKFFpRjDz"
      },
      "execution_count": null,
      "outputs": []
    },
    {
      "cell_type": "code",
      "source": [
        "img = cv2.imread(img_path)\n",
        "img = cv2.resize(img, (224, 224))  # Assuming the model was trained with input size (224, 224)\n",
        "img = img / 255.0  # Normalize pixel values to be in the range [0, 1]\n",
        "img = np.expand_dims(img, axis=0)  # Add batch dimension\n"
      ],
      "metadata": {
        "id": "IGFWl_o6RjBP"
      },
      "execution_count": null,
      "outputs": []
    },
    {
      "cell_type": "code",
      "source": [
        "predictions = model.predict(img)\n"
      ],
      "metadata": {
        "colab": {
          "base_uri": "https://localhost:8080/"
        },
        "id": "KxnS-yI7Ri_B",
        "outputId": "cf3098d6-a1e7-4e63-f63c-685b1683e959"
      },
      "execution_count": null,
      "outputs": [
        {
          "output_type": "stream",
          "name": "stdout",
          "text": [
            "1/1 [==============================] - 2s 2s/step\n"
          ]
        }
      ]
    },
    {
      "cell_type": "code",
      "source": [
        "print(predictions)"
      ],
      "metadata": {
        "colab": {
          "base_uri": "https://localhost:8080/"
        },
        "id": "WWgmOyh9Ri8b",
        "outputId": "5bd4b107-9153-48d4-9bfa-74bff6609a45"
      },
      "execution_count": null,
      "outputs": [
        {
          "output_type": "stream",
          "name": "stdout",
          "text": [
            "[[0.39219183]]\n"
          ]
        }
      ]
    },
    {
      "cell_type": "code",
      "source": [
        "import os\n",
        "import numpy as np\n",
        "from keras.preprocessing import image\n",
        "from keras.applications.vgg16 import VGG16, preprocess_input\n",
        "from keras.models import Model\n",
        "\n",
        "# Load the pre-trained VGG16 model without the classification head\n",
        "base_model = VGG16(weights='imagenet', include_top=False)\n",
        "\n",
        "# Define a new model that outputs the output of the last convolutional layer\n",
        "# This will be our context vector for the images\n",
        "context_model = Model(inputs=base_model.input, outputs=base_model.get_layer('block5_conv3').output)\n",
        "\n",
        "def get_context_vectors_from_folder(folder_path, batch_size=32):\n",
        "    image_paths = [os.path.join(folder_path, f) for f in os.listdir(folder_path) if f.endswith('.jpg') or f.endswith('.png')]\n",
        "    return get_context_vectors(image_paths, batch_size)\n",
        "\n",
        "def get_context_vectors(image_paths, batch_size=32):\n",
        "    context_vectors = []\n",
        "    num_batches = len(image_paths) // batch_size + 1\n",
        "\n",
        "    for i in range(num_batches):\n",
        "        batch_paths = image_paths[i*batch_size: (i+1)*batch_size]\n",
        "        batch_images = []\n",
        "\n",
        "        for image_path in batch_paths:\n",
        "            img = image.load_img(image_path, target_size=(224, 224))\n",
        "            x = image.img_to_array(img)\n",
        "            x = preprocess_input(x)\n",
        "            batch_images.append(x)\n",
        "\n",
        "        batch_images = np.array(batch_images)\n",
        "\n",
        "        # Get the context vectors for the batch of images\n",
        "        batch_context_vectors = context_model.predict(batch_images)\n",
        "        context_vectors.extend(batch_context_vectors)\n",
        "\n",
        "    return np.array(context_vectors)\n",
        "\n",
        "\n"
      ],
      "metadata": {
        "id": "PLR2yRanRi5z",
        "colab": {
          "base_uri": "https://localhost:8080/"
        },
        "outputId": "cbecac0d-fd1f-4c7d-9375-9f51332d98e6"
      },
      "execution_count": null,
      "outputs": [
        {
          "output_type": "stream",
          "name": "stdout",
          "text": [
            "Downloading data from https://storage.googleapis.com/tensorflow/keras-applications/vgg16/vgg16_weights_tf_dim_ordering_tf_kernels_notop.h5\n",
            "58889256/58889256 [==============================] - 2s 0us/step\n"
          ]
        }
      ]
    },
    {
      "cell_type": "code",
      "source": [
        "# Example usage\n",
        "folder_path = '/content/drive/MyDrive/Image_segregated/train/fake'\n",
        "context_vectors = get_context_vectors_from_folder(folder_path)\n",
        "print(\"Context vectors shape:\", context_vectors.shape)"
      ],
      "metadata": {
        "id": "qFcztjqqRi3b",
        "colab": {
          "base_uri": "https://localhost:8080/"
        },
        "outputId": "7167be48-ab14-44ac-d3fa-1636f7dfb824"
      },
      "execution_count": null,
      "outputs": [
        {
          "output_type": "stream",
          "name": "stdout",
          "text": [
            "1/1 [==============================] - 27s 27s/step\n",
            "1/1 [==============================] - 21s 21s/step\n",
            "1/1 [==============================] - 20s 20s/step\n",
            "1/1 [==============================] - 21s 21s/step\n",
            "1/1 [==============================] - 19s 19s/step\n",
            "1/1 [==============================] - 19s 19s/step\n",
            "1/1 [==============================] - 19s 19s/step\n",
            "1/1 [==============================] - 19s 19s/step\n",
            "1/1 [==============================] - 20s 20s/step\n",
            "1/1 [==============================] - 19s 19s/step\n",
            "1/1 [==============================] - 23s 23s/step\n",
            "1/1 [==============================] - 19s 19s/step\n",
            "1/1 [==============================] - 19s 19s/step\n",
            "1/1 [==============================] - 19s 19s/step\n",
            "1/1 [==============================] - 20s 20s/step\n",
            "1/1 [==============================] - 19s 19s/step\n",
            "1/1 [==============================] - 21s 21s/step\n",
            "1/1 [==============================] - 19s 19s/step\n",
            "1/1 [==============================] - 19s 19s/step\n",
            "1/1 [==============================] - 20s 20s/step\n",
            "1/1 [==============================] - 21s 21s/step\n",
            "1/1 [==============================] - 19s 19s/step\n",
            "1/1 [==============================] - 21s 21s/step\n",
            "1/1 [==============================] - 19s 19s/step\n",
            "1/1 [==============================] - 19s 19s/step\n",
            "1/1 [==============================] - 21s 21s/step\n",
            "1/1 [==============================] - 24s 24s/step\n",
            "1/1 [==============================] - 19s 19s/step\n",
            "1/1 [==============================] - 22s 22s/step\n",
            "1/1 [==============================] - 19s 19s/step\n",
            "1/1 [==============================] - 19s 19s/step\n",
            "1/1 [==============================] - 4s 4s/step\n",
            "Context vectors shape: (999, 14, 14, 512)\n"
          ]
        }
      ]
    },
    {
      "cell_type": "code",
      "source": [
        "context_vectors"
      ],
      "metadata": {
        "id": "_g9DH0QqRi0w",
        "colab": {
          "base_uri": "https://localhost:8080/"
        },
        "outputId": "747fce53-a27e-45bb-d9a4-f9a5bd8b09fa"
      },
      "execution_count": null,
      "outputs": [
        {
          "output_type": "execute_result",
          "data": {
            "text/plain": [
              "array([[[[ 0.       ,  0.       ,  0.       , ...,  0.       ,\n",
              "           0.       ,  0.       ],\n",
              "         [ 0.       ,  0.       ,  0.       , ...,  0.       ,\n",
              "           0.       ,  0.       ],\n",
              "         [ 0.       ,  0.       ,  0.       , ...,  0.       ,\n",
              "           0.       ,  0.       ],\n",
              "         ...,\n",
              "         [ 0.       ,  0.       ,  0.       , ...,  0.       ,\n",
              "          10.268851 ,  0.       ],\n",
              "         [ 0.       ,  0.       ,  0.       , ...,  0.       ,\n",
              "           0.       ,  0.       ],\n",
              "         [ 0.       ,  0.       ,  0.       , ...,  0.       ,\n",
              "           0.       ,  0.       ]],\n",
              "\n",
              "        [[ 0.       ,  0.       ,  0.       , ...,  0.       ,\n",
              "           0.       ,  0.       ],\n",
              "         [ 0.       ,  0.       ,  0.       , ...,  0.       ,\n",
              "           0.       ,  0.       ],\n",
              "         [ 0.       ,  0.       ,  0.       , ...,  0.       ,\n",
              "           0.       ,  0.       ],\n",
              "         ...,\n",
              "         [ 0.       ,  0.       ,  0.       , ...,  0.       ,\n",
              "          16.143593 ,  0.       ],\n",
              "         [ 0.       ,  0.       ,  0.       , ...,  0.       ,\n",
              "           2.2678998,  0.       ],\n",
              "         [ 0.       ,  0.       ,  0.       , ...,  0.       ,\n",
              "           6.4868536,  0.       ]],\n",
              "\n",
              "        [[ 0.       ,  0.       ,  0.       , ...,  0.       ,\n",
              "           0.       ,  0.       ],\n",
              "         [ 0.       ,  0.       ,  0.       , ...,  0.       ,\n",
              "           0.       ,  0.       ],\n",
              "         [ 0.       ,  0.       ,  0.       , ...,  0.       ,\n",
              "           0.       ,  0.       ],\n",
              "         ...,\n",
              "         [ 0.       ,  0.       ,  0.       , ...,  0.       ,\n",
              "           0.       ,  0.       ],\n",
              "         [ 0.       ,  0.       ,  0.       , ...,  0.       ,\n",
              "           0.507755 ,  0.       ],\n",
              "         [ 0.       ,  0.       ,  0.       , ...,  0.       ,\n",
              "          27.023785 ,  0.       ]],\n",
              "\n",
              "        ...,\n",
              "\n",
              "        [[ 0.       ,  0.       ,  0.       , ...,  0.       ,\n",
              "           0.       ,  0.       ],\n",
              "         [ 0.       ,  0.       ,  0.       , ...,  0.       ,\n",
              "           0.       ,  0.       ],\n",
              "         [ 0.       ,  0.       ,  0.       , ...,  0.       ,\n",
              "           0.       ,  0.       ],\n",
              "         ...,\n",
              "         [ 0.       ,  0.       ,  0.       , ...,  0.       ,\n",
              "           7.055538 ,  0.       ],\n",
              "         [ 0.       ,  0.       ,  0.       , ...,  0.       ,\n",
              "           0.       ,  0.       ],\n",
              "         [ 0.       ,  0.       ,  0.       , ...,  0.       ,\n",
              "          25.816868 ,  0.       ]],\n",
              "\n",
              "        [[ 0.       ,  0.       ,  0.       , ...,  0.       ,\n",
              "           0.       ,  0.       ],\n",
              "         [ 0.       ,  0.       ,  0.       , ...,  0.       ,\n",
              "           0.       ,  0.       ],\n",
              "         [ 0.       ,  0.       ,  0.       , ...,  0.       ,\n",
              "           0.       ,  0.       ],\n",
              "         ...,\n",
              "         [ 0.       ,  0.       ,  0.       , ...,  0.       ,\n",
              "           0.       ,  0.       ],\n",
              "         [ 0.       ,  0.       ,  0.       , ...,  0.       ,\n",
              "           0.       ,  0.       ],\n",
              "         [ 0.       ,  0.       ,  0.       , ...,  0.       ,\n",
              "           7.646407 ,  0.       ]],\n",
              "\n",
              "        [[ 0.       ,  0.       ,  0.       , ...,  0.       ,\n",
              "           0.       ,  0.       ],\n",
              "         [ 0.       ,  0.       ,  0.       , ...,  0.       ,\n",
              "           0.       ,  0.       ],\n",
              "         [ 0.       ,  0.       ,  0.       , ...,  0.       ,\n",
              "           0.       ,  0.       ],\n",
              "         ...,\n",
              "         [ 0.       ,  0.       ,  0.       , ...,  0.       ,\n",
              "           0.       ,  0.       ],\n",
              "         [ 0.       ,  0.       ,  0.       , ...,  0.       ,\n",
              "           0.       ,  0.       ],\n",
              "         [ 0.       ,  0.       ,  0.       , ...,  0.       ,\n",
              "           3.6267488,  0.       ]]],\n",
              "\n",
              "\n",
              "       [[[ 0.       ,  0.       ,  0.       , ...,  0.       ,\n",
              "           0.       ,  0.       ],\n",
              "         [ 0.       ,  0.       ,  0.       , ...,  0.       ,\n",
              "           0.       ,  0.       ],\n",
              "         [ 0.       ,  0.       ,  0.       , ...,  0.       ,\n",
              "           0.       ,  0.       ],\n",
              "         ...,\n",
              "         [ 0.       ,  0.       ,  0.       , ...,  0.       ,\n",
              "           0.       ,  0.       ],\n",
              "         [ 0.       ,  0.       ,  0.       , ...,  0.       ,\n",
              "           0.       ,  0.       ],\n",
              "         [ 0.       ,  0.       ,  0.       , ...,  0.       ,\n",
              "           0.       ,  0.       ]],\n",
              "\n",
              "        [[ 0.       ,  0.       ,  0.       , ...,  0.       ,\n",
              "           0.       ,  0.       ],\n",
              "         [ 0.       ,  0.       ,  0.       , ...,  0.       ,\n",
              "           0.       ,  0.       ],\n",
              "         [ 0.       ,  0.       ,  0.       , ...,  0.       ,\n",
              "           0.       ,  0.       ],\n",
              "         ...,\n",
              "         [ 0.       ,  0.       ,  0.       , ...,  0.       ,\n",
              "           0.       ,  0.       ],\n",
              "         [ 0.       ,  0.       ,  0.       , ...,  0.       ,\n",
              "           0.       ,  0.       ],\n",
              "         [ 0.       ,  0.       ,  0.       , ...,  0.       ,\n",
              "           0.       ,  0.       ]],\n",
              "\n",
              "        [[ 0.       ,  0.       ,  0.       , ...,  0.       ,\n",
              "           0.       ,  0.       ],\n",
              "         [ 0.       ,  0.       ,  0.       , ...,  0.       ,\n",
              "           0.       ,  0.       ],\n",
              "         [ 0.       ,  0.       ,  0.       , ...,  0.       ,\n",
              "           0.       ,  0.       ],\n",
              "         ...,\n",
              "         [ 0.       ,  0.       ,  0.       , ...,  0.       ,\n",
              "           0.       ,  0.       ],\n",
              "         [ 0.       ,  0.       ,  0.       , ...,  0.       ,\n",
              "           0.       ,  0.       ],\n",
              "         [ 0.       ,  0.       ,  0.       , ...,  0.       ,\n",
              "           0.       ,  0.       ]],\n",
              "\n",
              "        ...,\n",
              "\n",
              "        [[ 0.       ,  0.       ,  0.       , ...,  0.       ,\n",
              "           0.       ,  0.       ],\n",
              "         [ 0.       ,  0.       ,  0.       , ...,  0.       ,\n",
              "           0.       ,  0.       ],\n",
              "         [ 0.       ,  0.       ,  0.       , ...,  0.       ,\n",
              "           0.       ,  0.       ],\n",
              "         ...,\n",
              "         [ 0.       ,  0.       ,  0.       , ...,  0.       ,\n",
              "           0.       ,  0.       ],\n",
              "         [ 0.       ,  0.       ,  0.       , ...,  0.       ,\n",
              "           0.       ,  0.       ],\n",
              "         [ 0.       ,  0.       ,  0.       , ...,  0.       ,\n",
              "          17.959791 ,  0.       ]],\n",
              "\n",
              "        [[ 0.       ,  0.       ,  0.       , ...,  0.       ,\n",
              "           0.       ,  0.       ],\n",
              "         [ 0.       ,  0.       ,  0.       , ...,  0.       ,\n",
              "           0.       ,  0.       ],\n",
              "         [ 0.       ,  0.       ,  0.       , ...,  0.       ,\n",
              "           0.       ,  0.       ],\n",
              "         ...,\n",
              "         [ 0.       ,  0.       ,  0.       , ...,  0.       ,\n",
              "           0.       ,  0.       ],\n",
              "         [ 0.       ,  0.       ,  0.       , ...,  0.       ,\n",
              "           0.       ,  0.       ],\n",
              "         [ 0.       ,  0.       ,  0.       , ...,  0.       ,\n",
              "           5.256512 ,  0.       ]],\n",
              "\n",
              "        [[ 0.       ,  0.       ,  0.       , ...,  0.       ,\n",
              "           0.       ,  0.       ],\n",
              "         [ 0.       ,  0.       ,  0.       , ...,  0.       ,\n",
              "           0.       ,  0.       ],\n",
              "         [ 0.       ,  0.       ,  0.       , ...,  0.       ,\n",
              "           0.       ,  0.       ],\n",
              "         ...,\n",
              "         [ 0.       ,  0.       ,  0.       , ...,  0.       ,\n",
              "           0.       ,  0.       ],\n",
              "         [ 0.       ,  0.       ,  0.       , ...,  0.       ,\n",
              "           0.       ,  0.       ],\n",
              "         [ 0.       ,  0.       ,  0.       , ...,  0.       ,\n",
              "           3.3455207,  0.       ]]],\n",
              "\n",
              "\n",
              "       [[[ 0.       ,  0.       ,  0.       , ...,  0.       ,\n",
              "           0.       ,  0.       ],\n",
              "         [ 0.       ,  0.       ,  0.       , ...,  0.       ,\n",
              "           0.       ,  0.       ],\n",
              "         [ 0.       ,  0.       ,  0.       , ...,  0.       ,\n",
              "           0.       ,  0.       ],\n",
              "         ...,\n",
              "         [ 0.       ,  0.       ,  0.       , ...,  0.       ,\n",
              "           0.       ,  0.       ],\n",
              "         [ 0.       ,  0.       ,  0.       , ...,  0.       ,\n",
              "           0.       ,  0.       ],\n",
              "         [ 0.       ,  0.       ,  0.       , ...,  0.       ,\n",
              "           0.       ,  0.       ]],\n",
              "\n",
              "        [[ 0.       ,  0.       ,  0.       , ...,  0.       ,\n",
              "           0.       ,  0.       ],\n",
              "         [ 0.       ,  0.       ,  0.       , ...,  0.       ,\n",
              "           0.       ,  0.       ],\n",
              "         [ 0.       ,  0.       ,  0.       , ...,  0.       ,\n",
              "           0.       ,  0.       ],\n",
              "         ...,\n",
              "         [ 0.       ,  0.       ,  0.       , ...,  0.       ,\n",
              "           0.       ,  0.       ],\n",
              "         [ 0.       ,  0.       ,  0.       , ...,  0.       ,\n",
              "           0.       ,  0.       ],\n",
              "         [ 0.       ,  0.       ,  0.       , ...,  0.       ,\n",
              "           0.       ,  0.       ]],\n",
              "\n",
              "        [[ 0.       ,  0.       ,  0.       , ...,  0.       ,\n",
              "           0.       ,  0.       ],\n",
              "         [ 0.       ,  0.       ,  0.       , ...,  0.       ,\n",
              "           0.       ,  0.       ],\n",
              "         [ 0.       ,  0.       ,  0.       , ...,  0.       ,\n",
              "           0.       ,  0.       ],\n",
              "         ...,\n",
              "         [ 0.       ,  0.       ,  0.       , ...,  0.       ,\n",
              "           0.       ,  0.       ],\n",
              "         [ 0.       ,  0.       ,  0.       , ...,  0.       ,\n",
              "           0.       ,  0.       ],\n",
              "         [ 0.       ,  0.       ,  0.       , ...,  0.       ,\n",
              "           0.       ,  0.       ]],\n",
              "\n",
              "        ...,\n",
              "\n",
              "        [[ 0.       ,  0.       ,  0.       , ...,  0.       ,\n",
              "           0.       ,  8.575106 ],\n",
              "         [ 0.       ,  0.       ,  0.       , ...,  0.       ,\n",
              "           0.       ,  0.       ],\n",
              "         [ 0.       ,  0.       ,  1.9526246, ...,  0.       ,\n",
              "           0.       ,  0.       ],\n",
              "         ...,\n",
              "         [ 0.       ,  0.       ,  0.       , ...,  0.       ,\n",
              "           0.       ,  0.       ],\n",
              "         [ 0.       ,  0.       ,  0.       , ...,  0.       ,\n",
              "           0.       ,  0.       ],\n",
              "         [ 0.       ,  0.       ,  0.       , ...,  0.       ,\n",
              "           0.       ,  0.       ]],\n",
              "\n",
              "        [[ 0.       ,  0.       ,  5.0155644, ...,  0.       ,\n",
              "           0.       ,  0.       ],\n",
              "         [ 0.       ,  0.       ,  0.       , ...,  0.       ,\n",
              "           0.       ,  0.       ],\n",
              "         [ 0.       ,  0.       ,  0.       , ...,  0.       ,\n",
              "           0.       ,  0.       ],\n",
              "         ...,\n",
              "         [ 0.       ,  0.       ,  0.       , ...,  0.       ,\n",
              "           0.       ,  0.       ],\n",
              "         [ 0.       ,  0.       ,  0.       , ...,  0.       ,\n",
              "           0.       ,  0.       ],\n",
              "         [ 0.       ,  0.       ,  0.       , ...,  0.       ,\n",
              "           0.       ,  0.       ]],\n",
              "\n",
              "        [[ 0.       ,  0.       ,  0.       , ...,  0.       ,\n",
              "           0.       ,  0.       ],\n",
              "         [ 0.       ,  0.       ,  0.       , ...,  0.       ,\n",
              "           0.       ,  0.       ],\n",
              "         [ 0.       ,  0.       ,  0.       , ...,  0.       ,\n",
              "           0.       ,  0.       ],\n",
              "         ...,\n",
              "         [ 0.       ,  0.       ,  0.       , ...,  0.       ,\n",
              "           0.       ,  0.       ],\n",
              "         [ 0.       ,  0.       ,  0.       , ...,  0.       ,\n",
              "           0.       ,  0.       ],\n",
              "         [ 0.       ,  0.       ,  0.       , ...,  0.       ,\n",
              "           0.       ,  0.       ]]],\n",
              "\n",
              "\n",
              "       ...,\n",
              "\n",
              "\n",
              "       [[[ 0.       ,  0.       ,  0.       , ...,  0.       ,\n",
              "           0.       ,  0.       ],\n",
              "         [ 0.       ,  0.       ,  0.       , ...,  0.       ,\n",
              "           0.       ,  0.       ],\n",
              "         [ 0.       ,  0.       ,  0.       , ...,  0.       ,\n",
              "           0.       ,  0.       ],\n",
              "         ...,\n",
              "         [ 0.       ,  0.       ,  0.       , ...,  0.       ,\n",
              "           0.       ,  0.       ],\n",
              "         [ 0.       ,  0.       ,  0.       , ...,  0.       ,\n",
              "           0.       ,  0.       ],\n",
              "         [ 0.       ,  0.       ,  0.       , ...,  0.       ,\n",
              "           0.       ,  0.       ]],\n",
              "\n",
              "        [[ 0.       ,  0.       ,  0.       , ...,  0.       ,\n",
              "           0.       ,  0.       ],\n",
              "         [ 0.       ,  0.       ,  0.       , ...,  0.       ,\n",
              "           0.       ,  0.       ],\n",
              "         [ 0.       ,  0.       ,  0.       , ...,  0.       ,\n",
              "           0.       ,  0.       ],\n",
              "         ...,\n",
              "         [ 0.       ,  0.       ,  0.       , ...,  0.       ,\n",
              "           0.       ,  0.       ],\n",
              "         [ 0.       ,  0.       ,  0.       , ...,  0.       ,\n",
              "           0.       ,  0.       ],\n",
              "         [ 0.       ,  0.       ,  0.       , ...,  0.       ,\n",
              "           0.       ,  0.       ]],\n",
              "\n",
              "        [[ 0.       ,  0.       ,  0.       , ...,  0.       ,\n",
              "           0.       ,  0.       ],\n",
              "         [ 0.       ,  0.       ,  0.       , ...,  0.       ,\n",
              "           0.       ,  0.       ],\n",
              "         [ 0.       ,  0.       ,  0.       , ...,  0.       ,\n",
              "           0.       ,  0.       ],\n",
              "         ...,\n",
              "         [ 0.       ,  0.       ,  0.       , ...,  0.       ,\n",
              "           0.       ,  0.       ],\n",
              "         [ 0.       ,  0.       ,  0.       , ...,  0.       ,\n",
              "           0.       ,  0.       ],\n",
              "         [ 0.       ,  0.       ,  0.       , ...,  0.       ,\n",
              "           0.       ,  0.       ]],\n",
              "\n",
              "        ...,\n",
              "\n",
              "        [[ 0.       ,  0.       ,  0.       , ...,  0.       ,\n",
              "           0.       ,  0.       ],\n",
              "         [ 0.       ,  0.       ,  0.       , ...,  0.       ,\n",
              "           0.       ,  0.       ],\n",
              "         [ 0.       ,  0.       ,  0.       , ...,  0.       ,\n",
              "           0.       ,  0.       ],\n",
              "         ...,\n",
              "         [ 0.       ,  0.       ,  0.       , ...,  0.       ,\n",
              "           0.       ,  0.       ],\n",
              "         [ 0.       ,  0.       ,  0.       , ...,  0.       ,\n",
              "           0.       ,  0.       ],\n",
              "         [ 0.       ,  0.       ,  0.       , ...,  0.       ,\n",
              "           0.       ,  0.       ]],\n",
              "\n",
              "        [[ 0.       ,  0.       ,  0.       , ...,  0.       ,\n",
              "           0.       ,  0.       ],\n",
              "         [ 0.       ,  0.       ,  0.       , ...,  0.       ,\n",
              "           0.       ,  0.       ],\n",
              "         [ 0.       ,  0.       ,  0.       , ...,  0.       ,\n",
              "           0.       ,  0.       ],\n",
              "         ...,\n",
              "         [ 0.       ,  0.       ,  0.       , ...,  0.       ,\n",
              "           0.       ,  0.       ],\n",
              "         [ 0.       ,  0.       ,  0.       , ...,  0.       ,\n",
              "           0.       ,  0.       ],\n",
              "         [ 0.       ,  0.       ,  0.       , ...,  0.       ,\n",
              "           0.       ,  0.       ]],\n",
              "\n",
              "        [[ 0.       ,  0.       ,  0.       , ...,  0.       ,\n",
              "           0.       ,  0.       ],\n",
              "         [ 0.       ,  0.       ,  0.       , ...,  0.       ,\n",
              "           0.       ,  0.       ],\n",
              "         [ 0.       ,  0.       ,  0.       , ...,  0.       ,\n",
              "           0.       ,  0.       ],\n",
              "         ...,\n",
              "         [ 0.       ,  0.       ,  0.       , ...,  0.       ,\n",
              "           0.       ,  0.       ],\n",
              "         [ 0.       ,  0.       ,  0.       , ...,  0.       ,\n",
              "           0.       ,  0.       ],\n",
              "         [ 0.       ,  0.       ,  0.       , ...,  0.       ,\n",
              "           0.       ,  0.       ]]],\n",
              "\n",
              "\n",
              "       [[[ 0.       ,  0.       ,  0.       , ...,  0.       ,\n",
              "           0.       ,  0.       ],\n",
              "         [ 0.       ,  0.       ,  0.       , ...,  0.       ,\n",
              "           0.       ,  0.       ],\n",
              "         [ 0.       ,  0.       ,  0.       , ...,  0.       ,\n",
              "           0.       ,  0.       ],\n",
              "         ...,\n",
              "         [ 0.       ,  0.       ,  0.       , ...,  0.       ,\n",
              "           0.       ,  0.       ],\n",
              "         [ 0.       ,  0.       ,  0.       , ...,  0.       ,\n",
              "           0.       ,  0.       ],\n",
              "         [ 0.       ,  0.       ,  0.       , ...,  0.       ,\n",
              "           0.       ,  0.       ]],\n",
              "\n",
              "        [[ 0.       ,  0.       ,  0.       , ...,  0.       ,\n",
              "           0.       ,  0.       ],\n",
              "         [ 0.       ,  0.       ,  0.       , ...,  0.       ,\n",
              "           0.       ,  0.       ],\n",
              "         [ 0.       ,  0.       ,  0.       , ...,  0.       ,\n",
              "           0.       ,  0.       ],\n",
              "         ...,\n",
              "         [ 0.       ,  0.       ,  0.       , ...,  0.       ,\n",
              "           0.       ,  0.       ],\n",
              "         [ 0.       ,  0.       ,  0.       , ...,  0.       ,\n",
              "           0.       ,  0.       ],\n",
              "         [ 0.       ,  0.       ,  0.       , ...,  0.       ,\n",
              "           0.       ,  0.       ]],\n",
              "\n",
              "        [[ 0.       ,  0.       ,  0.       , ...,  0.       ,\n",
              "           0.       ,  0.       ],\n",
              "         [ 0.       ,  0.       ,  0.       , ...,  0.       ,\n",
              "           0.       ,  0.       ],\n",
              "         [ 0.       ,  0.       ,  0.       , ...,  0.       ,\n",
              "           0.       ,  0.       ],\n",
              "         ...,\n",
              "         [ 0.       ,  0.       ,  0.       , ...,  0.       ,\n",
              "           1.7459276,  0.       ],\n",
              "         [ 0.       ,  0.       ,  0.       , ...,  0.       ,\n",
              "           0.       ,  0.       ],\n",
              "         [ 0.       ,  0.       ,  0.       , ...,  0.       ,\n",
              "           0.       ,  0.       ]],\n",
              "\n",
              "        ...,\n",
              "\n",
              "        [[ 0.       ,  0.       ,  0.       , ...,  0.       ,\n",
              "           0.       ,  0.       ],\n",
              "         [ 0.       ,  0.       ,  0.       , ...,  0.       ,\n",
              "           0.       ,  0.       ],\n",
              "         [ 0.       ,  0.       ,  0.       , ...,  0.       ,\n",
              "           0.       ,  0.       ],\n",
              "         ...,\n",
              "         [ 0.       ,  0.       ,  0.       , ...,  0.       ,\n",
              "          17.854006 ,  0.       ],\n",
              "         [ 0.       ,  0.       ,  0.       , ...,  0.       ,\n",
              "           9.285804 ,  0.       ],\n",
              "         [ 0.       ,  0.       ,  0.       , ...,  0.       ,\n",
              "          34.07024  ,  0.       ]],\n",
              "\n",
              "        [[ 0.       ,  0.       ,  0.       , ...,  0.       ,\n",
              "           0.       ,  0.       ],\n",
              "         [ 0.       ,  0.       ,  0.       , ...,  0.       ,\n",
              "           0.       ,  0.       ],\n",
              "         [ 0.       ,  0.       ,  0.       , ...,  0.       ,\n",
              "           0.       ,  0.       ],\n",
              "         ...,\n",
              "         [ 0.       ,  0.       ,  0.       , ...,  0.       ,\n",
              "           0.       ,  0.       ],\n",
              "         [ 0.       ,  0.       ,  0.       , ...,  0.       ,\n",
              "           0.       ,  0.       ],\n",
              "         [ 0.       ,  0.       ,  0.       , ...,  0.       ,\n",
              "          15.925122 ,  0.       ]],\n",
              "\n",
              "        [[ 0.       ,  0.       ,  0.       , ...,  0.       ,\n",
              "           0.       ,  0.       ],\n",
              "         [ 0.       ,  0.       ,  0.       , ...,  0.       ,\n",
              "           0.       ,  0.       ],\n",
              "         [ 0.       ,  0.       ,  0.       , ...,  0.       ,\n",
              "           0.       ,  0.       ],\n",
              "         ...,\n",
              "         [ 0.       ,  0.       ,  0.       , ...,  0.       ,\n",
              "           0.       ,  0.       ],\n",
              "         [ 0.       ,  0.       ,  0.       , ...,  0.       ,\n",
              "           0.       ,  0.       ],\n",
              "         [ 0.       ,  0.       ,  0.       , ...,  0.       ,\n",
              "           8.831404 ,  0.       ]]],\n",
              "\n",
              "\n",
              "       [[[ 0.       ,  0.       ,  0.       , ...,  0.       ,\n",
              "           0.       ,  0.       ],\n",
              "         [ 0.       ,  0.       ,  0.       , ...,  0.       ,\n",
              "           0.       ,  0.       ],\n",
              "         [ 0.       ,  0.       ,  0.       , ...,  0.       ,\n",
              "           0.       ,  0.       ],\n",
              "         ...,\n",
              "         [ 0.       ,  0.       ,  0.       , ...,  0.       ,\n",
              "           0.       ,  0.       ],\n",
              "         [ 0.       ,  0.       ,  0.       , ...,  0.       ,\n",
              "           0.       ,  0.       ],\n",
              "         [ 0.       ,  0.       ,  0.       , ...,  0.       ,\n",
              "           0.       ,  0.       ]],\n",
              "\n",
              "        [[ 0.       ,  0.       ,  0.       , ...,  0.       ,\n",
              "           0.       ,  0.       ],\n",
              "         [ 0.       ,  0.       ,  0.       , ...,  0.       ,\n",
              "           0.       ,  0.       ],\n",
              "         [ 0.       ,  0.       ,  0.       , ...,  0.       ,\n",
              "           0.       ,  0.       ],\n",
              "         ...,\n",
              "         [ 0.       ,  0.       ,  0.       , ...,  0.       ,\n",
              "           0.       ,  0.       ],\n",
              "         [ 0.       ,  0.       ,  0.       , ...,  0.       ,\n",
              "           0.       ,  0.       ],\n",
              "         [ 0.       ,  0.       ,  0.       , ...,  0.       ,\n",
              "           0.       ,  0.       ]],\n",
              "\n",
              "        [[ 0.       ,  0.       ,  0.       , ...,  0.       ,\n",
              "           0.       ,  0.       ],\n",
              "         [ 0.       ,  0.       ,  0.       , ...,  0.       ,\n",
              "           0.       ,  0.       ],\n",
              "         [ 0.       ,  0.       ,  0.       , ...,  0.       ,\n",
              "           0.       ,  0.       ],\n",
              "         ...,\n",
              "         [ 0.       ,  0.       ,  0.       , ...,  0.       ,\n",
              "           0.       ,  0.       ],\n",
              "         [ 0.       ,  0.       ,  0.       , ...,  0.       ,\n",
              "           0.       ,  0.       ],\n",
              "         [ 0.       ,  0.       ,  0.       , ...,  0.       ,\n",
              "           0.       ,  0.       ]],\n",
              "\n",
              "        ...,\n",
              "\n",
              "        [[ 0.       ,  0.       ,  0.       , ...,  0.       ,\n",
              "           0.       ,  0.       ],\n",
              "         [ 0.       ,  0.       ,  0.       , ...,  0.       ,\n",
              "           0.       ,  0.       ],\n",
              "         [ 0.       ,  0.       ,  0.       , ...,  0.       ,\n",
              "           0.       ,  0.       ],\n",
              "         ...,\n",
              "         [ 0.       ,  0.       ,  0.       , ...,  0.       ,\n",
              "           0.       ,  0.       ],\n",
              "         [ 0.       ,  0.       ,  0.       , ...,  0.       ,\n",
              "           0.       ,  0.       ],\n",
              "         [ 0.       ,  0.       ,  0.       , ...,  0.       ,\n",
              "           0.       ,  0.       ]],\n",
              "\n",
              "        [[ 0.       ,  0.       ,  0.       , ...,  0.       ,\n",
              "           0.       ,  0.       ],\n",
              "         [ 0.       ,  0.       ,  0.       , ...,  0.       ,\n",
              "           0.       ,  0.       ],\n",
              "         [ 0.       ,  0.       ,  0.       , ...,  0.       ,\n",
              "           0.       ,  0.       ],\n",
              "         ...,\n",
              "         [ 0.       ,  0.       ,  0.       , ...,  0.       ,\n",
              "           0.       ,  0.       ],\n",
              "         [ 0.       ,  0.       ,  0.       , ...,  0.       ,\n",
              "           0.       ,  0.       ],\n",
              "         [ 0.       ,  0.       ,  0.       , ...,  0.       ,\n",
              "           0.       ,  0.       ]],\n",
              "\n",
              "        [[ 0.       ,  0.       ,  0.       , ...,  0.       ,\n",
              "           0.       ,  0.       ],\n",
              "         [ 0.       ,  0.       ,  0.       , ...,  0.       ,\n",
              "           0.       ,  0.       ],\n",
              "         [ 0.       ,  0.       ,  0.       , ...,  0.       ,\n",
              "           0.       ,  0.       ],\n",
              "         ...,\n",
              "         [ 0.       ,  0.       ,  0.       , ...,  0.       ,\n",
              "           0.       ,  0.       ],\n",
              "         [ 0.       ,  0.       ,  0.       , ...,  0.       ,\n",
              "           0.       ,  0.       ],\n",
              "         [ 0.       ,  0.       ,  0.       , ...,  0.       ,\n",
              "           0.       ,  0.       ]]]], dtype=float32)"
            ]
          },
          "metadata": {},
          "execution_count": 7
        }
      ]
    },
    {
      "cell_type": "code",
      "source": [],
      "metadata": {
        "id": "mBFc-a6LRiyP"
      },
      "execution_count": null,
      "outputs": []
    },
    {
      "cell_type": "code",
      "source": [],
      "metadata": {
        "id": "zeSJzE7mRiv5"
      },
      "execution_count": null,
      "outputs": []
    },
    {
      "cell_type": "code",
      "source": [],
      "metadata": {
        "id": "sqzCNqTJRiti"
      },
      "execution_count": null,
      "outputs": []
    },
    {
      "cell_type": "code",
      "source": [],
      "metadata": {
        "id": "W7xzlYpjRirD"
      },
      "execution_count": null,
      "outputs": []
    },
    {
      "cell_type": "code",
      "source": [],
      "metadata": {
        "id": "4F6zu86VRiox"
      },
      "execution_count": null,
      "outputs": []
    },
    {
      "cell_type": "code",
      "source": [],
      "metadata": {
        "id": "vfppsmB9Ril4"
      },
      "execution_count": null,
      "outputs": []
    },
    {
      "cell_type": "code",
      "source": [],
      "metadata": {
        "id": "2LdO11mPRijV"
      },
      "execution_count": null,
      "outputs": []
    },
    {
      "cell_type": "code",
      "source": [],
      "metadata": {
        "id": "8Pg3ZnFDRigQ"
      },
      "execution_count": null,
      "outputs": []
    }
  ]
}