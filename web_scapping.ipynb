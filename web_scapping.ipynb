{
 "cells": [
  {
   "cell_type": "code",
   "execution_count": 1,
   "id": "af095edc",
   "metadata": {},
   "outputs": [],
   "source": [
    "from selenium import webdriver\n",
    "from selenium.webdriver.common.by import By\n",
    "from selenium.webdriver.common.keys import Keys\n",
    "from selenium.webdriver.support.ui import WebDriverWait\n",
    "from selenium.webdriver.support import expected_conditions as EC\n",
    "from selenium import webdriver\n",
    "import time, urllib.request\n",
    "import requests\n",
    "import getpass\n",
    "from time import sleep"
   ]
  },
  {
   "cell_type": "code",
   "execution_count": 2,
   "id": "2fb2161c",
   "metadata": {},
   "outputs": [
    {
     "name": "stdout",
     "output_type": "stream",
     "text": [
      "········\n"
     ]
    }
   ],
   "source": [
    "my_user = \"john.wick199914\"\n",
    "my_pwd = getpass.getpass()"
   ]
  },
  {
   "cell_type": "code",
   "execution_count": 3,
   "id": "5829060f",
   "metadata": {},
   "outputs": [],
   "source": [
    "dest_loc = r'D:\\Instagram_photos'"
   ]
  },
  {
   "cell_type": "code",
   "execution_count": 4,
   "id": "bd128203",
   "metadata": {},
   "outputs": [],
   "source": [
    "driver=webdriver.Chrome()\n",
    "driver.get('https://instagram.com')\n",
    "driver.maximize_window()\n",
    "sleep(4)"
   ]
  },
  {
   "cell_type": "code",
   "execution_count": 5,
   "id": "8ed221ac",
   "metadata": {},
   "outputs": [],
   "source": [
    "from selenium.webdriver.common.keys import Keys\n"
   ]
  },
  {
   "cell_type": "code",
   "execution_count": 6,
   "id": "6ec23a5b",
   "metadata": {},
   "outputs": [],
   "source": [
    "user_name = driver.find_element(By.XPATH,\"//input[@name='username']\")\n",
    "user_name.send_keys(my_user)\n",
    "user_name.send_keys(Keys.ENTER)\n"
   ]
  },
  {
   "cell_type": "code",
   "execution_count": 7,
   "id": "73e58e1d",
   "metadata": {},
   "outputs": [],
   "source": [
    "password = driver.find_element(By.XPATH,\"//input[@name='password']\")\n",
    "password.send_keys(my_pwd)\n",
    "password.send_keys(Keys.ENTER)\n",
    "sleep(3)"
   ]
  },
  {
   "cell_type": "code",
   "execution_count": 8,
   "id": "c39d4dd7",
   "metadata": {},
   "outputs": [],
   "source": [
    "not_now = driver.find_element(By.XPATH,\"//button[text()='Not Now']\")\n",
    "not_now.click()"
   ]
  },
  {
   "cell_type": "code",
   "execution_count": null,
   "id": "17ef3652",
   "metadata": {},
   "outputs": [],
   "source": [
    "search_box = driver.find_element(By.XPATH,\"//input[@aria-label='Search input']']\")\n",
    "search_box.clear()\n",
    "search_box.send_keys('addidas')\n"
   ]
  },
  {
   "cell_type": "code",
   "execution_count": null,
   "id": "2e855564",
   "metadata": {},
   "outputs": [],
   "source": [
    "search_box.send_keys(Keys.ENTER)"
   ]
  },
  {
   "cell_type": "code",
   "execution_count": null,
   "id": "cf7623de",
   "metadata": {},
   "outputs": [],
   "source": [
    "images = driver.find_elements(By.XPATH,'//img[@class=\"x5yr21d xu96u03 x10l6tqk x13vifvy x87ps6o xh8yej3\"]')\n"
   ]
  },
  {
   "cell_type": "code",
   "execution_count": null,
   "id": "2db4dced",
   "metadata": {},
   "outputs": [],
   "source": [
    "len(images)"
   ]
  },
  {
   "cell_type": "code",
   "execution_count": null,
   "id": "b28aa2d4",
   "metadata": {},
   "outputs": [],
   "source": [
    "my_images = set()\n",
    "\n",
    "while True:\n",
    "    for image in images:\n",
    "        source = images.get_attribute('src')\n",
    "        my_images.add(source)\n",
    "    driver.execute_script('window.scrollTo(0,document.body.scrollHeight);')\n",
    "    sleep(5)\n",
    "    images = driver.find_elements(By.XPATH,'//img[@class=\"x5yr21d xu96u03 x10l6tqk x13vifvy x87ps6o xh8yej3\"]')\n",
    "    if len(my_images)>100:\n",
    "        break"
   ]
  },
  {
   "cell_type": "code",
   "execution_count": null,
   "id": "f97effe0",
   "metadata": {},
   "outputs": [],
   "source": [
    "my_images = set()\n",
    "\n",
    "while True:\n",
    "    images = driver.find_elements(By.XPATH, '//img[@class=\"x5yr21d xu96u03 x10l6tqk x13vifvy x87ps6o xh8yej3\"]')\n",
    "    \n",
    "    for image in images:\n",
    "        source = image.get_attribute('src')  # Use 'image' instead of 'images'\n",
    "        my_images.add(source)\n",
    "    \n",
    "    driver.execute_script('window.scrollTo(0, document.body.scrollHeight);')\n",
    "    sleep(5)\n",
    "\n",
    "    if len(my_images) > 1000:\n",
    "        break\n"
   ]
  },
  {
   "cell_type": "code",
   "execution_count": null,
   "id": "e285ea17",
   "metadata": {},
   "outputs": [],
   "source": [
    "len(my_images)"
   ]
  },
  {
   "cell_type": "code",
   "execution_count": null,
   "id": "c2a1b7eb",
   "metadata": {},
   "outputs": [],
   "source": [
    "my_images\n"
   ]
  },
  {
   "cell_type": "code",
   "execution_count": null,
   "id": "16b658dd",
   "metadata": {},
   "outputs": [],
   "source": [
    "!pip install wget"
   ]
  },
  {
   "cell_type": "code",
   "execution_count": null,
   "id": "871c902a",
   "metadata": {},
   "outputs": [],
   "source": [
    "import wget\n",
    "\n",
    "for image in my_images:\n",
    "    wget.download(image,dest_loc)\n"
   ]
  },
  {
   "cell_type": "code",
   "execution_count": null,
   "id": "1f2eff34",
   "metadata": {},
   "outputs": [],
   "source": []
  }
 ],
 "metadata": {
  "kernelspec": {
   "display_name": "Python 3 (ipykernel)",
   "language": "python",
   "name": "python3"
  },
  "language_info": {
   "codemirror_mode": {
    "name": "ipython",
    "version": 3
   },
   "file_extension": ".py",
   "mimetype": "text/x-python",
   "name": "python",
   "nbconvert_exporter": "python",
   "pygments_lexer": "ipython3",
   "version": "3.10.14"
  }
 },
 "nbformat": 4,
 "nbformat_minor": 5
}
