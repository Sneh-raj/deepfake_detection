{
 "cells": [
  {
   "cell_type": "code",
   "execution_count": 1,
   "id": "0d300d36",
   "metadata": {},
   "outputs": [
    {
     "name": "stdout",
     "output_type": "stream",
     "text": [
      "Requirement already satisfied: selenium in c:\\users\\snehr\\anaconda3\\lib\\site-packages (4.18.1)\n",
      "Requirement already satisfied: trio-websocket~=0.9 in c:\\users\\snehr\\anaconda3\\lib\\site-packages (from selenium) (0.11.1)\n",
      "Requirement already satisfied: certifi>=2021.10.8 in c:\\users\\snehr\\anaconda3\\lib\\site-packages (from selenium) (2022.12.7)\n",
      "Requirement already satisfied: trio~=0.17 in c:\\users\\snehr\\anaconda3\\lib\\site-packages (from selenium) (0.24.0)\n",
      "Requirement already satisfied: urllib3[socks]<3,>=1.26 in c:\\users\\snehr\\anaconda3\\lib\\site-packages (from selenium) (1.26.14)\n",
      "Requirement already satisfied: typing_extensions>=4.9.0 in c:\\users\\snehr\\anaconda3\\lib\\site-packages (from selenium) (4.10.0)\n",
      "Requirement already satisfied: sniffio>=1.3.0 in c:\\users\\snehr\\anaconda3\\lib\\site-packages (from trio~=0.17->selenium) (1.3.1)\n",
      "Requirement already satisfied: outcome in c:\\users\\snehr\\anaconda3\\lib\\site-packages (from trio~=0.17->selenium) (1.3.0.post0)\n",
      "Requirement already satisfied: idna in c:\\users\\snehr\\anaconda3\\lib\\site-packages (from trio~=0.17->selenium) (3.4)\n",
      "Requirement already satisfied: exceptiongroup in c:\\users\\snehr\\anaconda3\\lib\\site-packages (from trio~=0.17->selenium) (1.2.0)\n",
      "Requirement already satisfied: sortedcontainers in c:\\users\\snehr\\anaconda3\\lib\\site-packages (from trio~=0.17->selenium) (2.4.0)\n",
      "Requirement already satisfied: cffi>=1.14 in c:\\users\\snehr\\anaconda3\\lib\\site-packages (from trio~=0.17->selenium) (1.15.1)\n",
      "Requirement already satisfied: attrs>=20.1.0 in c:\\users\\snehr\\anaconda3\\lib\\site-packages (from trio~=0.17->selenium) (22.1.0)\n",
      "Requirement already satisfied: wsproto>=0.14 in c:\\users\\snehr\\anaconda3\\lib\\site-packages (from trio-websocket~=0.9->selenium) (1.2.0)\n",
      "Requirement already satisfied: PySocks!=1.5.7,<2.0,>=1.5.6 in c:\\users\\snehr\\anaconda3\\lib\\site-packages (from urllib3[socks]<3,>=1.26->selenium) (1.7.1)\n",
      "Requirement already satisfied: pycparser in c:\\users\\snehr\\anaconda3\\lib\\site-packages (from cffi>=1.14->trio~=0.17->selenium) (2.21)\n",
      "Requirement already satisfied: h11<1,>=0.9.0 in c:\\users\\snehr\\anaconda3\\lib\\site-packages (from wsproto>=0.14->trio-websocket~=0.9->selenium) (0.14.0)\n"
     ]
    }
   ],
   "source": [
    "!pip install selenium"
   ]
  },
  {
   "cell_type": "code",
   "execution_count": 2,
   "id": "9f6f2b30",
   "metadata": {},
   "outputs": [
    {
     "name": "stderr",
     "output_type": "stream",
     "text": [
      "ERROR: Could not find a version that satisfies the requirement time (from versions: none)\n",
      "ERROR: No matching distribution found for time\n"
     ]
    }
   ],
   "source": [
    "!pip install time\n"
   ]
  },
  {
   "cell_type": "code",
   "execution_count": 3,
   "id": "c193fb0b",
   "metadata": {},
   "outputs": [
    {
     "name": "stdout",
     "output_type": "stream",
     "text": [
      "Requirement already satisfied: requests in c:\\users\\snehr\\anaconda3\\lib\\site-packages (2.28.1)\n",
      "Requirement already satisfied: idna<4,>=2.5 in c:\\users\\snehr\\anaconda3\\lib\\site-packages (from requests) (3.4)\n",
      "Requirement already satisfied: certifi>=2017.4.17 in c:\\users\\snehr\\anaconda3\\lib\\site-packages (from requests) (2022.12.7)\n",
      "Requirement already satisfied: urllib3<1.27,>=1.21.1 in c:\\users\\snehr\\anaconda3\\lib\\site-packages (from requests) (1.26.14)\n",
      "Requirement already satisfied: charset-normalizer<3,>=2 in c:\\users\\snehr\\anaconda3\\lib\\site-packages (from requests) (2.0.4)\n"
     ]
    }
   ],
   "source": [
    "! pip install requests\n"
   ]
  },
  {
   "cell_type": "code",
   "execution_count": 42,
   "id": "9c7d58bd",
   "metadata": {},
   "outputs": [
    {
     "data": {
      "text/plain": [
       "True"
      ]
     },
     "execution_count": 42,
     "metadata": {},
     "output_type": "execute_result"
    }
   ],
   "source": [
    "from selenium import webdriver\n",
    "from selenium.webdriver.common.by import By\n",
    "from selenium.webdriver.support.ui import WebDriverWait\n",
    "from selenium.webdriver.support import expected_conditions as EC\n",
    "from selenium import webdriver\n",
    "from selenium.webdriver.common.keys import Keys\n",
    "import time, urllib.request\n",
    "import requests\n",
    "\n",
    "driver=webdriver.Chrome()\n",
    "driver.get('https://instagram.com')\n",
    "\n",
    "\n",
    "element=driver.find_element(By.NAME,\"username\")\n",
    "element.send_keys(\"john.wick199914\")\n",
    "element=driver.find_element(By.NAME,\"password\")\n",
    "element.send_keys(\"johnwick880480@\")\n",
    "element.send_keys(Keys.RETURN)\n",
    "\n",
    "\n",
    "# Open Instagram website\n",
    "driver.get(\"https://www.instagram.com/p/C3294DlKUib/\")\n",
    "\n",
    "# Wait for the image element to be present on the page\n",
    "wait = WebDriverWait(driver, 10)\n",
    "image_element = wait.until(EC.presence_of_element_located((By.CSS_SELECTOR, 'img.x5yr21d')))\n",
    "\n",
    "# Save a screenshot of the image element\n",
    "image_element.screenshot(\"image_screenshot.png\")\n",
    "\n",
    "\n",
    "\n"
   ]
  },
  {
   "cell_type": "code",
   "execution_count": 46,
   "id": "78f1458b",
   "metadata": {},
   "outputs": [
    {
     "data": {
      "text/plain": [
       "True"
      ]
     },
     "execution_count": 46,
     "metadata": {},
     "output_type": "execute_result"
    }
   ],
   "source": [
    "from selenium import webdriver\n",
    "from selenium.webdriver.common.keys import Keys\n",
    "from selenium.webdriver.common.by import By\n",
    "from selenium.webdriver.support.ui import WebDriverWait\n",
    "from selenium.webdriver.support import expected_conditions as EC\n",
    "\n",
    "# Set up the webdriver\n",
    "driver = webdriver.Chrome()\n",
    "\n",
    "# Open Instagram website\n",
    "driver.get(\"https://www.instagram.com/\")\n",
    "\n",
    "# Wait for the username input field to be present\n",
    "username_input = WebDriverWait(driver, 10).until(\n",
    "    EC.presence_of_element_located((By.NAME, \"username\"))\n",
    ")\n",
    "\n",
    "# Enter username and password\n",
    "username_input.send_keys(\"john.wick199914\")\n",
    "password_input = driver.find_element(By.NAME, \"password\")\n",
    "password_input.send_keys(\"johnwick880480@\")\n",
    "\n",
    "# Click the login button\n",
    "password_input.send_keys(Keys.RETURN)\n",
    "\n",
    "# Wait for the home page to load\n",
    "WebDriverWait(driver, 10).until(EC.url_to_be(\"https://www.instagram.com/\"))\n",
    "\n",
    "# Take a screenshot of the home page\n",
    "driver.save_screenshot(\"instagram_home_page.png\")\n",
    "\n"
   ]
  },
  {
   "cell_type": "code",
   "execution_count": null,
   "id": "6c471484",
   "metadata": {},
   "outputs": [],
   "source": []
  },
  {
   "cell_type": "code",
   "execution_count": null,
   "id": "85458eaf",
   "metadata": {},
   "outputs": [],
   "source": []
  },
  {
   "cell_type": "code",
   "execution_count": null,
   "id": "7e173372",
   "metadata": {},
   "outputs": [],
   "source": []
  },
  {
   "cell_type": "code",
   "execution_count": null,
   "id": "a22cfbbc",
   "metadata": {},
   "outputs": [],
   "source": []
  },
  {
   "cell_type": "code",
   "execution_count": null,
   "id": "6cd04e94",
   "metadata": {},
   "outputs": [],
   "source": []
  },
  {
   "cell_type": "code",
   "execution_count": null,
   "id": "e8796e48",
   "metadata": {},
   "outputs": [],
   "source": []
  },
  {
   "cell_type": "code",
   "execution_count": null,
   "id": "4fadf48b",
   "metadata": {},
   "outputs": [],
   "source": []
  },
  {
   "cell_type": "code",
   "execution_count": 38,
   "id": "693f7675",
   "metadata": {},
   "outputs": [
    {
     "name": "stdout",
     "output_type": "stream",
     "text": [
      "Image Source URL: https://scontent.cdninstagram.com/v/t51.2885-15/429575502_1712466015944365_3766482289368397466_n.jpg?stp=dst-jpg_e35_p1080x1080&_nc_ht=scontent.cdninstagram.com&_nc_cat=1&_nc_ohc=QCsSe4NTowUAX98q3do&edm=APs17CUBAAAA&ccb=7-5&oh=00_AfD5BfKUkyT1m3OyQTmItIO2jOQAxMuyPJyrBYV2ccJlew&oe=65E4DB18&_nc_sid=10d13b\n"
     ]
    }
   ],
   "source": [
    "from selenium import webdriver\n",
    "from selenium.webdriver.common.by import By\n",
    "from selenium.webdriver.support.ui import WebDriverWait\n",
    "from selenium.webdriver.support import expected_conditions as EC\n",
    "\n",
    "# Set up the webdriver\n",
    "driver = webdriver.Chrome()\n",
    "\n",
    "# Open Instagram website\n",
    "driver.get(\"https://www.instagram.com/p/C3294DlKUib/\")\n",
    "\n",
    "# Wait for the image element to be present on the page\n",
    "wait = WebDriverWait(driver, 10)\n",
    "image_element = wait.until(EC.presence_of_element_located((By.CSS_SELECTOR, 'img.x5yr21d')))\n",
    "\n",
    "# Get the source attribute of the image\n",
    "image_source = image_element.get_attribute('src')\n",
    "\n",
    "# Print the image source URL\n",
    "print(\"Image Source URL:\", image_source)\n",
    "\n",
    "#get videos and images\n",
    "download_url = ''\n",
    "for post in posts:\n",
    "    driver.get(post)\n",
    "    shortcode = driver.current_url.split(\"/\")[-2]\n",
    "    time.sleep(7)\n",
    "    if driver.find_element_by_css_selector(\"img[style='object-fit: cover;']\") is not None:\n",
    "        image_source = driver.find_element_by_css_selector(\"img[style='object-fit: cover;']\").get_attribute('src')\n",
    "        urllib.request.urlretrieve( image_source, '{}.jpg'.format(shortcode))\n",
    "    else:\n",
    "        image_source = driver.find_element_by_css_selector(\"video[type='video/mp4']\").get_attribute('src')\n",
    "        urllib.request.urlretrieve( image_source, '{}.mp4'.format(shortcode))\n",
    "    time.sleep(5)"
   ]
  },
  {
   "cell_type": "code",
   "execution_count": 26,
   "id": "27e9d4b7",
   "metadata": {},
   "outputs": [
    {
     "data": {
      "text/plain": [
       "'C:\\\\Users\\\\snehr'"
      ]
     },
     "execution_count": 26,
     "metadata": {},
     "output_type": "execute_result"
    }
   ],
   "source": [
    "pwd"
   ]
  },
  {
   "cell_type": "code",
   "execution_count": null,
   "id": "bd60bbb1",
   "metadata": {},
   "outputs": [],
   "source": []
  },
  {
   "cell_type": "code",
   "execution_count": null,
   "id": "b941eaa5",
   "metadata": {},
   "outputs": [],
   "source": []
  },
  {
   "cell_type": "code",
   "execution_count": null,
   "id": "ef3c1d26",
   "metadata": {},
   "outputs": [],
   "source": [
    "scrolldown = driver.execute_script(\"window.scrollTo(0, document.body.scrollHeight);var scrolldown=document.body.scrollHeight;return scrolldown;\")\n",
    "match=False\n",
    "while(match==False):\n",
    "    last_count = scrolldown\n",
    "    time.sleep(15)\n",
    "    scrolldown = driver.execute_script(\"window.scrollTo(0, document.body.scrollHeight);var scrolldown=document.body.scrollHeight;return scrolldown;\")\n",
    "    if last_count==scrolldown:\n",
    "        match=True\n"
   ]
  },
  {
   "cell_type": "code",
   "execution_count": null,
   "id": "652c0871",
   "metadata": {},
   "outputs": [],
   "source": [
    "#posts\n",
    "posts = []\n",
    "links = driver.find_elements(By.NAME,'h')\n",
    "for link in links:\n",
    "    post = link.get_attribute('href')\n",
    "    if '/p/' in post:\n",
    "      posts.append(post)\n",
    "\n",
    "print(posts)\n"
   ]
  },
  {
   "cell_type": "code",
   "execution_count": null,
   "id": "3bb2085a",
   "metadata": {},
   "outputs": [],
   "source": []
  },
  {
   "cell_type": "code",
   "execution_count": null,
   "id": "c987a147",
   "metadata": {},
   "outputs": [],
   "source": []
  },
  {
   "cell_type": "code",
   "execution_count": 31,
   "id": "0531fac1",
   "metadata": {},
   "outputs": [
    {
     "ename": "TimeoutException",
     "evalue": "Message: \n",
     "output_type": "error",
     "traceback": [
      "\u001b[1;31m---------------------------------------------------------------------------\u001b[0m",
      "\u001b[1;31mTimeoutException\u001b[0m                          Traceback (most recent call last)",
      "Cell \u001b[1;32mIn[31], line 14\u001b[0m\n\u001b[0;32m     12\u001b[0m \u001b[38;5;66;03m# Wait for the photos to load on the page\u001b[39;00m\n\u001b[0;32m     13\u001b[0m wait \u001b[38;5;241m=\u001b[39m WebDriverWait(driver, \u001b[38;5;241m30\u001b[39m)\n\u001b[1;32m---> 14\u001b[0m photos \u001b[38;5;241m=\u001b[39m \u001b[43mwait\u001b[49m\u001b[38;5;241;43m.\u001b[39;49m\u001b[43muntil\u001b[49m\u001b[43m(\u001b[49m\u001b[43mEC\u001b[49m\u001b[38;5;241;43m.\u001b[39;49m\u001b[43mvisibility_of_all_elements_located\u001b[49m\u001b[43m(\u001b[49m\u001b[43m(\u001b[49m\u001b[43mBy\u001b[49m\u001b[38;5;241;43m.\u001b[39;49m\u001b[43mCSS_SELECTOR\u001b[49m\u001b[43m,\u001b[49m\u001b[43m \u001b[49m\u001b[38;5;124;43m'\u001b[39;49m\u001b[38;5;124;43mimg.FFVAD\u001b[39;49m\u001b[38;5;124;43m'\u001b[39;49m\u001b[43m)\u001b[49m\u001b[43m)\u001b[49m\u001b[43m)\u001b[49m\n\u001b[0;32m     17\u001b[0m \u001b[38;5;66;03m# Iterate through each photo and capture a screenshot\u001b[39;00m\n\u001b[0;32m     18\u001b[0m \u001b[38;5;28;01mfor\u001b[39;00m index, photo \u001b[38;5;129;01min\u001b[39;00m \u001b[38;5;28menumerate\u001b[39m(photos, start\u001b[38;5;241m=\u001b[39m\u001b[38;5;241m1\u001b[39m):\n\u001b[0;32m     19\u001b[0m     \u001b[38;5;66;03m# Save a screenshot of each photo\u001b[39;00m\n",
      "File \u001b[1;32m~\\anaconda3\\lib\\site-packages\\selenium\\webdriver\\support\\wait.py:105\u001b[0m, in \u001b[0;36mWebDriverWait.until\u001b[1;34m(self, method, message)\u001b[0m\n\u001b[0;32m    103\u001b[0m     \u001b[38;5;28;01mif\u001b[39;00m time\u001b[38;5;241m.\u001b[39mmonotonic() \u001b[38;5;241m>\u001b[39m end_time:\n\u001b[0;32m    104\u001b[0m         \u001b[38;5;28;01mbreak\u001b[39;00m\n\u001b[1;32m--> 105\u001b[0m \u001b[38;5;28;01mraise\u001b[39;00m TimeoutException(message, screen, stacktrace)\n",
      "\u001b[1;31mTimeoutException\u001b[0m: Message: \n"
     ]
    }
   ],
   "source": [
    "from selenium import webdriver\n",
    "from selenium.webdriver.common.by import By\n",
    "from selenium.webdriver.support.ui import WebDriverWait\n",
    "from selenium.webdriver.support import expected_conditions as EC\n",
    "\n",
    "# Set up the webdriver\n",
    "driver = webdriver.Chrome()\n",
    "\n",
    "# Open Instagram website\n",
    "driver.get(\"https://www.instagram.com/hm/\")\n",
    "\n",
    "# Wait for the photos to load on the page\n",
    "wait = WebDriverWait(driver, 30)\n",
    "photos = wait.until(EC.visibility_of_all_elements_located((By.CSS_SELECTOR, 'img.FFVAD')))\n",
    "\n",
    "\n",
    "# Iterate through each photo and capture a screenshot\n",
    "for index, photo in enumerate(photos, start=1):\n",
    "    # Save a screenshot of each photo\n",
    "    photo.screenshot(f\"photo_screenshot_{index}.png\")\n",
    "\n",
    "# Close the browser window\n",
    "driver.quit()\n"
   ]
  },
  {
   "cell_type": "code",
   "execution_count": null,
   "id": "eb9510cf",
   "metadata": {},
   "outputs": [],
   "source": []
  },
  {
   "cell_type": "code",
   "execution_count": null,
   "id": "79e2c15b",
   "metadata": {},
   "outputs": [],
   "source": []
  },
  {
   "cell_type": "code",
   "execution_count": null,
   "id": "d49bdff3",
   "metadata": {},
   "outputs": [],
   "source": []
  }
 ],
 "metadata": {
  "kernelspec": {
   "display_name": "Python 3 (ipykernel)",
   "language": "python",
   "name": "python3"
  },
  "language_info": {
   "codemirror_mode": {
    "name": "ipython",
    "version": 3
   },
   "file_extension": ".py",
   "mimetype": "text/x-python",
   "name": "python",
   "nbconvert_exporter": "python",
   "pygments_lexer": "ipython3",
   "version": "3.10.14"
  }
 },
 "nbformat": 4,
 "nbformat_minor": 5
}
